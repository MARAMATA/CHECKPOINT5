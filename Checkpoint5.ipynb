{
 "cells": [
  {
   "cell_type": "markdown",
   "id": "fd54aad7",
   "metadata": {},
   "source": [
    "# QUESTION1"
   ]
  },
  {
   "cell_type": "code",
   "execution_count": 1,
   "id": "69fdffcf",
   "metadata": {},
   "outputs": [
    {
     "name": "stdout",
     "output_type": "stream",
     "text": [
      "[[1, 2, 3], [4, 5, 6]]\n"
     ]
    }
   ],
   "source": [
    "import numpy as np\n",
    "tableau = np.array([[1, 2, 3], [4, 5, 6]])\n",
    "liste = tableau.tolist()\n",
    "print(liste)"
   ]
  },
  {
   "cell_type": "markdown",
   "id": "8c12d589",
   "metadata": {},
   "source": [
    "# QUESTION2"
   ]
  },
  {
   "cell_type": "code",
   "execution_count": 2,
   "id": "60ffb5ac",
   "metadata": {},
   "outputs": [
    {
     "name": "stdout",
     "output_type": "stream",
     "text": [
      "La somme des éléments diagonaux du tableau est : 15\n"
     ]
    }
   ],
   "source": [
    "import numpy as np\n",
    "\n",
    "# Créer un tableau de test\n",
    "tableau = np.array([[1, 2, 3], [4, 5, 6], [7, 8, 9]])\n",
    "\n",
    "# Calculer la somme des éléments diagonaux en utilisant la fonction trace()\n",
    "somme = np.trace(tableau)\n",
    "\n",
    "# Afficher le résultat\n",
    "print(\"La somme des éléments diagonaux du tableau est :\", somme)"
   ]
  },
  {
   "cell_type": "markdown",
   "id": "ce49a59c",
   "metadata": {},
   "source": [
    "# QUESTION3"
   ]
  },
  {
   "cell_type": "code",
   "execution_count": 3,
   "id": "32d391e9",
   "metadata": {},
   "outputs": [
    {
     "name": "stdout",
     "output_type": "stream",
     "text": [
      "Les valeurs supérieures à 2 sont : [3 5]\n"
     ]
    }
   ],
   "source": [
    "import numpy as np\n",
    "\n",
    "# Créer un tableau de test\n",
    "tableau = np.array([[1, 2], [3, 5]])\n",
    "\n",
    "# Définir la valeur de X\n",
    "X = 2\n",
    "\n",
    "# Obtenir toutes les valeurs supérieures à X\n",
    "valeurs_sup = tableau[tableau > X]\n",
    "\n",
    "# Afficher les valeurs supérieures à X\n",
    "print(\"Les valeurs supérieures à\", X, \"sont :\", valeurs_sup)"
   ]
  },
  {
   "cell_type": "markdown",
   "id": "80f1254c",
   "metadata": {},
   "source": [
    "# QUESTION4"
   ]
  },
  {
   "cell_type": "code",
   "execution_count": 4,
   "id": "560017ac",
   "metadata": {},
   "outputs": [
    {
     "name": "stdout",
     "output_type": "stream",
     "text": [
      "Le nouveau tableau C est : [[ 6  8]\n",
      " [10 12]]\n"
     ]
    }
   ],
   "source": [
    "import numpy as np\n",
    "\n",
    "# Créer deux tableaux de test\n",
    "A = np.array([[1, 2], [3, 4]])\n",
    "B = np.array([[5, 6], [7, 8]])\n",
    "\n",
    "# Initialiser le tableau C\n",
    "C = np.zeros_like(A)\n",
    "\n",
    "# Appliquer l'addition manuellement\n",
    "for i in range(len(A)):\n",
    "    for j in range(len(A[0])):\n",
    "        C[i][j] = A[i][j] + B[i][j]\n",
    "\n",
    "# Afficher le résultat\n",
    "print(\"Le nouveau tableau C est :\", C)"
   ]
  },
  {
   "cell_type": "markdown",
   "id": "4d9f1e2c",
   "metadata": {},
   "source": [
    "# QUESTION6"
   ]
  },
  {
   "cell_type": "code",
   "execution_count": 5,
   "id": "e02d6029",
   "metadata": {},
   "outputs": [
    {
     "name": "stdout",
     "output_type": "stream",
     "text": [
      "La matrice originale :\n",
      " [[1 2 3]\n",
      " [4 5 6]\n",
      " [7 8 9]]\n",
      "La moyenne de chaque ligne : [2. 5. 8.]\n",
      "La matrice soustraite de la moyenne de chaque ligne :\n",
      " [[-1.  0.  1.]\n",
      " [-1.  0.  1.]\n",
      " [-1.  0.  1.]]\n"
     ]
    }
   ],
   "source": [
    "import numpy as np\n",
    "\n",
    "# Créer une matrice de test\n",
    "matrice = np.array([[1, 2, 3], [4, 5, 6], [7, 8, 9]])\n",
    "\n",
    "# Calculer la moyenne de chaque ligne\n",
    "moyennes = np.mean(matrice, axis=1)\n",
    "\n",
    "# Soustraire la moyenne de chaque ligne\n",
    "matrice_soustraite = matrice - moyennes.reshape(-1, 1)\n",
    "\n",
    "# Afficher les résultats\n",
    "print(\"La matrice originale :\\n\", matrice)\n",
    "print(\"La moyenne de chaque ligne :\", moyennes)\n",
    "print(\"La matrice soustraite de la moyenne de chaque ligne :\\n\", matrice_soustraite)\n"
   ]
  },
  {
   "cell_type": "code",
   "execution_count": null,
   "id": "07e581c0",
   "metadata": {},
   "outputs": [],
   "source": []
  }
 ],
 "metadata": {
  "kernelspec": {
   "display_name": "Python 3 (ipykernel)",
   "language": "python",
   "name": "python3"
  },
  "language_info": {
   "codemirror_mode": {
    "name": "ipython",
    "version": 3
   },
   "file_extension": ".py",
   "mimetype": "text/x-python",
   "name": "python",
   "nbconvert_exporter": "python",
   "pygments_lexer": "ipython3",
   "version": "3.9.13"
  }
 },
 "nbformat": 4,
 "nbformat_minor": 5
}
